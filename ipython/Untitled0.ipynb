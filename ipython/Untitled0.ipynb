{
 "metadata": {
  "name": "Untitled0"
 }, 
 "nbformat": 2, 
 "worksheets": [
  {
   "cells": [
    {
     "cell_type": "code", 
     "collapsed": false, 
     "input": [
      "t1 = (2,4,8)", 
      "t1 = list(t1)", 
      "t1[0] = 5", 
      "t1.extend([1,4,5])", 
      "t1.pop(3)", 
      "t1.append(5)", 
      "t1", 
      "t1 = tuple(t1)", 
      "t1"
     ], 
     "language": "python", 
     "outputs": [
      {
       "output_type": "pyout", 
       "prompt_number": 9, 
       "text": [
        "(5, 4, 8, 4, 5, 5)"
       ]
      }
     ], 
     "prompt_number": 9
    }, 
    {
     "cell_type": "code", 
     "collapsed": false, 
     "input": [
      "ziploc = {'95117': 'San Jose','94086':'Sunnyvale','95014': 'Cupertino'}", 
      "print ziploc", 
      "print ziploc.keys()", 
      "print tuple(ziploc.keys())", 
      "print ziploc.values()", 
      "print ziploc['95117']", 
      "ziploc['95117'] = 'Santa Clara'", 
      "print ziploc['95117']", 
      "ziploc['95054'] = 'Santa Clara'", 
      "print ziploc"
     ], 
     "language": "python", 
     "outputs": [
      {
       "output_type": "stream", 
       "stream": "stdout", 
       "text": [
        "{'95117': 'San Jose', '95014': 'Cupertino', '94086': 'Sunnyvale'}", 
        "['95117', '95014', '94086']", 
        "('95117', '95014', '94086')", 
        "['San Jose', 'Cupertino', 'Sunnyvale']", 
        "San Jose", 
        "Santa Clara", 
        "{'95054': 'Santa Clara', '95117': 'Santa Clara', '95014': 'Cupertino', '94086': 'Sunnyvale'}"
       ]
      }
     ], 
     "prompt_number": 11
    }, 
    {
     "cell_type": "code", 
     "collapsed": false, 
     "input": [
      "'55421' in ziploc"
     ], 
     "language": "python", 
     "outputs": [
      {
       "output_type": "pyout", 
       "prompt_number": 12, 
       "text": [
        "False"
       ]
      }
     ], 
     "prompt_number": 12
    }, 
    {
     "cell_type": "code", 
     "collapsed": false, 
     "input": [
      "if ziploc {}:"
     ], 
     "language": "python", 
     "outputs": [
      {
       "ename": "SyntaxError", 
       "evalue": "invalid syntax (<ipython-input-17-48aaf2f8defa>, line 1)", 
       "output_type": "pyerr", 
       "traceback": [
        "\u001b[0;36m  File \u001b[0;32m\"<ipython-input-17-48aaf2f8defa>\"\u001b[0;36m, line \u001b[0;32m1\u001b[0m\n\u001b[0;31m    if ziploc {}:\u001b[0m\n\u001b[0m              ^\u001b[0m\n\u001b[0;31mSyntaxError\u001b[0m\u001b[0;31m:\u001b[0m invalid syntax\n"
       ]
      }
     ], 
     "prompt_number": 17
    }, 
    {
     "cell_type": "code", 
     "collapsed": false, 
     "input": [
      "list1 = ['item1','item2','item3','item4','item5']", 
      "list2 = ['fool','fool2','foo3 item1 XXX','foo2 item1 XXX','foo4']", 
      "for items in list1:", 
      "    for item in list2:", 
      "        if items in item:", 
      "            print item", 
      "    "
     ], 
     "language": "python", 
     "outputs": [
      {
       "output_type": "stream", 
       "stream": "stdout", 
       "text": [
        "foo3 item1 XXX", 
        "foo2 item1 XXX"
       ]
      }
     ], 
     "prompt_number": 20
    }, 
    {
     "cell_type": "code", 
     "collapsed": true, 
     "input": [
      "nl=[item  for items in list1 for item in list2 if items in item]"
     ], 
     "language": "python", 
     "outputs": [], 
     "prompt_number": 22
    }, 
    {
     "cell_type": "code", 
     "collapsed": false, 
     "input": [
      "print nl"
     ], 
     "language": "python", 
     "outputs": [
      {
       "output_type": "stream", 
       "stream": "stdout", 
       "text": [
        "['foo3 item1 XXX', 'foo2 item1 XXX']"
       ]
      }
     ], 
     "prompt_number": 23
    }, 
    {
     "cell_type": "code", 
     "collapsed": false, 
     "input": [
      "def squared(mylist):", 
      "    return [x*x for x in mylist]", 
      "squared(range(1,10))", 
      "", 
      "def dictn(mylist):", 
      "    return {x:x**2 for x in mylist}", 
      "", 
      "dictn(range(1,10))"
     ], 
     "language": "python", 
     "outputs": [
      {
       "output_type": "pyout", 
       "prompt_number": 36, 
       "text": [
        "{1: 1, 2: 4, 3: 9, 4: 16, 5: 25, 6: 36, 7: 49, 8: 64, 9: 81}"
       ]
      }
     ], 
     "prompt_number": 36
    }, 
    {
     "cell_type": "code", 
     "collapsed": false, 
     "input": [
      "mylist = [1,3,4,6,34,33,31,25]", 
      "even = [i for i in mylist if i%2==0 ]"
     ], 
     "language": "python", 
     "outputs": [], 
     "prompt_number": 41
    }, 
    {
     "cell_type": "code", 
     "collapsed": false, 
     "input": [
      "mylist = [1,3,4,6,34,33,31,25]", 
      "for i in mylist:", 
      "    if i%2==0:", 
      "        print i"
     ], 
     "language": "python", 
     "outputs": [
      {
       "output_type": "stream", 
       "stream": "stdout", 
       "text": [
        "4", 
        "6", 
        "34"
       ]
      }
     ], 
     "prompt_number": 39
    }, 
    {
     "cell_type": "code", 
     "collapsed": false, 
     "input": [
      "mylist = [1,3,4,6,34,33,31,25]", 
      "even = [i for i in mylist if i%2==0 ]", 
      "odd = [i for i in mylist if i%2!=0]", 
      "print even,odd"
     ], 
     "language": "python", 
     "outputs": [
      {
       "output_type": "stream", 
       "stream": "stdout", 
       "text": [
        "[4, 6, 34] [1, 3, 33, 31, 25]"
       ]
      }
     ], 
     "prompt_number": 45
    }, 
    {
     "cell_type": "code", 
     "collapsed": true, 
     "input": [], 
     "language": "python", 
     "outputs": []
    }
   ]
  }
 ]
}