{
 "metadata": {
  "name": "",
  "signature": "sha256:c6ffce1129f763c16a4c1c5713fea47fa6ef414d12d92482bb0e2cc619c49ef4"
 },
 "nbformat": 3,
 "nbformat_minor": 0,
 "worksheets": [
  {
   "cells": [
    {
     "cell_type": "code",
     "collapsed": false,
     "input": [
      "'''\n",
      "Error checks and other storing methods\n",
      "1. try-except example of integer divison by zero \n",
      "2. Pickle\n",
      "3. Shelve \n",
      "'''"
     ],
     "language": "python",
     "metadata": {},
     "outputs": []
    },
    {
     "cell_type": "code",
     "collapsed": false,
     "input": [
      "'''\n",
      "An exception is raised when a program has an error. Error handling is used to take care of exceptions \n",
      "so that when there is no exception then the program runs smoothly and in case of an error, the error \n",
      "handler can fix the problem or handle it so that the program can be continued. \n",
      "\n",
      "TRY-EXCEPT is a construct that handles exceptions.\n",
      "\n",
      "http://www.python-course.eu/exception_handling.php\n",
      "'''"
     ],
     "language": "python",
     "metadata": {},
     "outputs": []
    },
    {
     "cell_type": "code",
     "collapsed": false,
     "input": [
      "a = 10\n",
      "b = 0\n",
      "c = a/b\n",
      "print c"
     ],
     "language": "python",
     "metadata": {},
     "outputs": []
    },
    {
     "cell_type": "code",
     "collapsed": false,
     "input": [
      "try:\n",
      "    c = a/b\n",
      "except ZeroDivisionError:\n",
      "    c = a\n",
      "\n",
      "# Instead of quitting after encountering the ZeroDivisionError, in this case we are assigning a new value \n",
      "# to c so that the program can continue.\n",
      "print c\n",
      "    "
     ],
     "language": "python",
     "metadata": {},
     "outputs": []
    },
    {
     "cell_type": "code",
     "collapsed": false,
     "input": [
      "a = int('92384a')\n",
      "print a, type(a)\n",
      "# since the string can't be converted to an int, ValueError exception is raised"
     ],
     "language": "python",
     "metadata": {},
     "outputs": []
    },
    {
     "cell_type": "code",
     "collapsed": false,
     "input": [
      "try:\n",
      "    a = int('92384g')\n",
      "    b = 0\n",
      "    c = a/b\n",
      "except:\n",
      "    print 'The error message is - Not a number.'\n",
      "    print 'The error message is - Cannot divide by zero.'"
     ],
     "language": "python",
     "metadata": {},
     "outputs": []
    },
    {
     "cell_type": "code",
     "collapsed": false,
     "input": [
      "try:\n",
      "    a = int('92384g')\n",
      "    b = 12\n",
      "    c = 0\n",
      "    d = b/c\n",
      "except ValueError as v:\n",
      "    print 'Not a number.  The error message is',v\n",
      "except ZeroDivisionError as z:\n",
      "    print 'Cannot divide by zero.  The error message is',z"
     ],
     "language": "python",
     "metadata": {},
     "outputs": []
    },
    {
     "cell_type": "code",
     "collapsed": false,
     "input": [
      "try:\n",
      "    a = int('92384g')\n",
      "except ValueError as v:\n",
      "    print 'Not a number.  The error message is',v\n",
      "    \n",
      "try:\n",
      "    b = 12\n",
      "    c = 0\n",
      "    d = b/c\n",
      "except ZeroDivisionError as z:\n",
      "    print 'Cannot divide by zero.  The error message is',z"
     ],
     "language": "python",
     "metadata": {},
     "outputs": []
    },
    {
     "cell_type": "code",
     "collapsed": false,
     "input": [
      "'''\n",
      "try-except-else: the else clause has to placed after all the exceptions and else clause will be \n",
      "executed when the try clause doesn't raise any exceptions\n",
      "\n",
      "syntax\n",
      "\n",
      "try:\n",
      "    execute try statements\n",
      "    \n",
      "except exception1:\n",
      "    If there is exception1, then execute this block\n",
      "\n",
      "except exception2:\n",
      "    If there is exception2, then execute this block\n",
      "    \n",
      "else:\n",
      "    If there is no exception, then execute this block\n",
      "'''\n",
      "\n",
      "try:\n",
      "    a = int('92a')\n",
      "except ValueError:\n",
      "    a = 10\n",
      "    print 'a is not a number. Gave a new value = ', a\n",
      "else:\n",
      "    print 'is a number'"
     ],
     "language": "python",
     "metadata": {},
     "outputs": []
    },
    {
     "cell_type": "code",
     "collapsed": false,
     "input": [
      "''' \n",
      "To enforce clean-up or termination clauses there is try-finally or try-except-finally. Finally clause \n",
      "will be executed no matter whether an exception occurs or not.\n",
      "\n",
      "syntax\n",
      "\n",
      "try:\n",
      "    execute statements\n",
      "    \n",
      "    if an exception occurs, then this may be skipped\n",
      "    \n",
      "except e1:\n",
      "    statement to execute if there is an exception\n",
      "    \n",
      "finally:\n",
      "    this will always be executed\n",
      "\n",
      "'''"
     ],
     "language": "python",
     "metadata": {},
     "outputs": []
    },
    {
     "cell_type": "code",
     "collapsed": false,
     "input": [
      "try:\n",
      "    f = open(\"test1.txt\",\"r\")\n",
      "    f.write(\"name, age, address\")\n",
      "    \n",
      "except IOError:\n",
      "    print \"File not found.\"\n",
      "    \n",
      "finally:\n",
      "    print \"There is no file by this name.\""
     ],
     "language": "python",
     "metadata": {},
     "outputs": []
    },
    {
     "cell_type": "code",
     "collapsed": false,
     "input": [
      "'''\n",
      "Note - the major difference between else clause and finally clause is that else clause will get executed \n",
      "only when no exceptions are raised. Whereas finally clause gets executed no matter whether an exception \n",
      "is raised or not. \n",
      "'''"
     ],
     "language": "python",
     "metadata": {},
     "outputs": []
    },
    {
     "cell_type": "code",
     "collapsed": false,
     "input": [
      "a = 10\n",
      "b = 0\n",
      "try:\n",
      "    c = a/b\n",
      "except ZeroDivisionError:\n",
      "    c = a\n",
      "finally:\n",
      "    print c"
     ],
     "language": "python",
     "metadata": {},
     "outputs": []
    },
    {
     "cell_type": "code",
     "collapsed": false,
     "input": [
      "#  Raising custom exceptions\n",
      "# Stored in one file\n",
      "class TooSmallError(Exception):\n",
      "    pass\n",
      "\n",
      "class TooLargeError(Exception):\n",
      "    pass\n",
      "\n",
      "def checkval(val,limit):\n",
      "    if val < limit:\n",
      "        raise TooSmallError\n",
      "    else:\n",
      "        raise TooLargeError\n",
      "        \n",
      "# Stored in another file\n",
      "limit = 10\n",
      "try:\n",
      "    a = 50\n",
      "    checkval(a,limit)\n",
      "except TooSmallError:\n",
      "    print \"Too Small\"\n",
      "except TooLargeError:\n",
      "    print \"Too Large\"    "
     ],
     "language": "python",
     "metadata": {},
     "outputs": []
    },
    {
     "cell_type": "code",
     "collapsed": false,
     "input": [
      "# file1.py\n",
      "a = 10.0\n",
      "b = 0\n",
      "\n",
      "def inv(a,b):\n",
      "    c = 0\n",
      "    d = 0\n",
      "    try:\n",
      "        c = 1.0/a\n",
      "        d = 1.0/b\n",
      "    except ZeroDivisionError:\n",
      "        pass\n",
      "        # raise ZeroDivisionError(\"One or more numbers is zero.\")\n",
      "    return (c,d)\n",
      "\n",
      "def insum(c,d):\n",
      "    e = c + d\n",
      "    return e\n",
      "\n",
      "\n",
      "# file2.py\n",
      "w = inv(a,b)\n",
      "insum(w[0],w[1])"
     ],
     "language": "python",
     "metadata": {},
     "outputs": []
    },
    {
     "cell_type": "code",
     "collapsed": false,
     "input": [
      "# file1.py\n",
      "a = 10.0\n",
      "b = 0\n",
      "\n",
      "def inv(a,b):\n",
      "    c = 0\n",
      "    d = 0\n",
      "    try:\n",
      "        c = 1.0/a\n",
      "        d = 1.0/b\n",
      "    except ZeroDivisionError:\n",
      "        print \"Either c or d is zero\"\n",
      "        raise ZeroDivisionError(\"One or more numbers is zero.\")\n",
      "    return (c,d)\n",
      "\n",
      "def insum(c,d):\n",
      "    e = c + d\n",
      "    return e\n",
      "\n",
      "## file2.py\n",
      "try:\n",
      "    w = inv(a,b)\n",
      "except ZeroDivisionError:\n",
      "    print \"Could not complete inv()\"\n",
      "insum(w[0],w[1])"
     ],
     "language": "python",
     "metadata": {},
     "outputs": []
    },
    {
     "cell_type": "code",
     "collapsed": false,
     "input": [
      "'''\n",
      "A pickle converts Python objects to bytes that can be stored or transmitted (not secure). The CPickle \n",
      "module implemented using C is faster than pickle that is implemented using Python. Pickle can handle \n",
      "unicode objects. A \u201cshelf\u201d is a persistent, dictionary-like object. Check out the followign links to \n",
      "learn more https://freepythontips.wordpress.com/2013/08/02/what-is-pickle-in-python/\n",
      "'''"
     ],
     "language": "python",
     "metadata": {},
     "outputs": []
    },
    {
     "cell_type": "code",
     "collapsed": false,
     "input": [
      "try:\n",
      "   import cPickle as pickle\n",
      "except:\n",
      "   import pickle"
     ],
     "language": "python",
     "metadata": {},
     "outputs": []
    },
    {
     "cell_type": "code",
     "collapsed": false,
     "input": [
      "mydict = [ { 'a':'1', 'b':2, 'c':3 } ]\n",
      "mydict2 = {'d':4,'e':5}\n",
      "\n",
      "f = open('pickle.ck','wb')\n",
      "pickle.dump(mydict,f) #this command dumps mydict into the file pickle.ck\n",
      "pickle.dump(mydict2,f) # this command dumps mydict2 into the file pickle.ck\n",
      "f.close()\n",
      "\n",
      "f = open('pickle.ck','rb')\n",
      "newdict = pickle.load(f)\n",
      "newdict2 = pickle.load(f)\n",
      "f.close()\n",
      "\n",
      "print 'Read values are:',\n",
      "print newdict\n",
      "print(newdict2)"
     ],
     "language": "python",
     "metadata": {},
     "outputs": []
    },
    {
     "cell_type": "code",
     "collapsed": false,
     "input": [
      "f = open('pickle.ck','rb')\n",
      "newdict = pickle.load(f)\n",
      "newdict2 = pickle.load(f)\n",
      "print newdict2\n",
      "# We have read all the information that needs to be read.  This will give an error\n",
      "newdict3 = pickle.load(f) \n",
      "f.close()"
     ],
     "language": "python",
     "metadata": {},
     "outputs": []
    },
    {
     "cell_type": "code",
     "collapsed": false,
     "input": [
      "'''\n",
      "Shelve module can be used to store and retrieve Python objects easily.\n",
      "Shelve uses anydbm to store the data. Check out the following link for more information.\n",
      "http://pymotw.com/2/shelve/\n",
      "'''"
     ],
     "language": "python",
     "metadata": {},
     "outputs": []
    },
    {
     "cell_type": "code",
     "collapsed": false,
     "input": [
      "import shelve\n",
      "mydict = [ { 'a':'1', 'b':2, 'c':3 } ]\n",
      "mylist = ['apple', 'mango', 'pineapple']\n",
      "s = shelve.open('fruit.sv') # opens the shelve\n",
      "try:\n",
      "    s['first'] = mydict\n",
      "    s['second'] = mylist\n",
      "finally:\n",
      "    print s\n",
      "    s.close()"
     ],
     "language": "python",
     "metadata": {},
     "outputs": []
    },
    {
     "cell_type": "code",
     "collapsed": false,
     "input": [
      "import shelve\n",
      "s = shelve.open('fruit.sv','r')\n",
      "try:\n",
      "    newdict = s['first']\n",
      "finally:\n",
      "    s.close()\n",
      "print newdict"
     ],
     "language": "python",
     "metadata": {},
     "outputs": []
    },
    {
     "cell_type": "code",
     "collapsed": false,
     "input": [
      "import shelve\n",
      "mydict = [ { 'a':'1', 'b':2, 'c':3 } ]\n",
      "# Write back uses in-memory cache. All items in cache are written to the shelve when it is closed.\n",
      "s = shelve.open('fruit.sv',writeback=True)\n",
      "try:\n",
      "    s['firstdict'] = mydict\n",
      "finally:\n",
      "    s.close()"
     ],
     "language": "python",
     "metadata": {},
     "outputs": []
    },
    {
     "cell_type": "code",
     "collapsed": false,
     "input": [
      "import shelve\n",
      "s = shelve.open('fruit.sv')\n",
      "if 'second' in s: # we are checking if the key second exists\n",
      "    print s['second']"
     ],
     "language": "python",
     "metadata": {},
     "outputs": []
    },
    {
     "cell_type": "code",
     "collapsed": false,
     "input": [
      "'''\n",
      "Note - the major difference between pickle and shelve is that pickle stores the objects one at a time \n",
      "and objects can only be retrieved in the order they were written. Whereas objects in shelve can be \n",
      "accessed in any order. \n",
      "'''"
     ],
     "language": "python",
     "metadata": {},
     "outputs": []
    }
   ],
   "metadata": {}
  }
 ]
}