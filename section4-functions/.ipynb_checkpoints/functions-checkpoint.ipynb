{
 "metadata": {
  "name": "",
  "signature": "sha256:3a8e98f92ecc793afaddd9807c29986854cbc52e90780869160af9a8ba71e284"
 },
 "nbformat": 3,
 "nbformat_minor": 0,
 "worksheets": [
  {
   "cells": [
    {
     "cell_type": "code",
     "collapsed": false,
     "input": [
      "'''\n",
      "Functions\n",
      "1. Arguments and outputs\n",
      "2. default argument\n",
      "3. keyword based arguments\n",
      "\n",
      "Syntax for function\n",
      "def name_of_the_function(list of arguments):\n",
      "    statements that need to be executed\n",
      "    return value\n",
      "'''"
     ],
     "language": "python",
     "metadata": {},
     "outputs": []
    },
    {
     "cell_type": "code",
     "collapsed": false,
     "input": [
      "def increment(a):\n",
      "    b = a+1\n",
      "    return b\n",
      "\n",
      "increment(20)\n",
      "# we are calling the function and passing a value to it"
     ],
     "language": "python",
     "metadata": {},
     "outputs": []
    },
    {
     "cell_type": "code",
     "collapsed": false,
     "input": [
      "def increment(a,incr):\n",
      "    c = a+incr\n",
      "    return c\n",
      "\n",
      "increment(10,3)\n",
      "# we are calling the function and passing two values to it"
     ],
     "language": "python",
     "metadata": {},
     "outputs": []
    },
    {
     "cell_type": "code",
     "collapsed": false,
     "input": [
      "def increment(a,incr):\n",
      "    c = a+incr\n",
      "    return (c,a,incr)\n",
      "\n",
      "increment(10,3)"
     ],
     "language": "python",
     "metadata": {},
     "outputs": []
    },
    {
     "cell_type": "code",
     "collapsed": false,
     "input": [
      "def increment(a,incr=1):\n",
      "    a = a+incr\n",
      "    return a\n",
      "\n",
      "print increment(3) # for this the incr will default to 1\n",
      "print increment(3,4) \n",
      "# here the incr is assigned a value of 4 which overrides the value"
     ],
     "language": "python",
     "metadata": {},
     "outputs": []
    },
    {
     "cell_type": "code",
     "collapsed": false,
     "input": [
      "def increment(a=4,incr1=1):\n",
      "    a = a+incr1\n",
      "    return a\n",
      "\n",
      "print increment(a=3,incr1=2) # another way of passing values to arguments"
     ],
     "language": "python",
     "metadata": {},
     "outputs": []
    },
    {
     "cell_type": "code",
     "collapsed": false,
     "input": [
      "print increment(incr1=2,a=3) # another way of passing values to arguments"
     ],
     "language": "python",
     "metadata": {},
     "outputs": []
    },
    {
     "cell_type": "code",
     "collapsed": false,
     "input": [
      "print increment(incr1=5,a=2) #if you assign a value for a keyword argument \n",
      "# then other keyword arguments to its right should also be assigned values. "
     ],
     "language": "python",
     "metadata": {},
     "outputs": []
    },
    {
     "cell_type": "code",
     "collapsed": false,
     "input": [
      "increment"
     ],
     "language": "python",
     "metadata": {},
     "outputs": []
    },
    {
     "cell_type": "code",
     "collapsed": false,
     "input": [
      "'''\n",
      "In-class activity:\n",
      "Create a function called squared which takes a list called mylist and returns \n",
      "another list where the elements are square of mylist. Also write another \n",
      "function that takes mylist and returns a dictionary where the key is the input \n",
      "and the value is the square of the input. \n",
      "'''"
     ],
     "language": "python",
     "metadata": {},
     "outputs": []
    },
    {
     "cell_type": "code",
     "collapsed": false,
     "input": [],
     "language": "python",
     "metadata": {},
     "outputs": []
    }
   ],
   "metadata": {}
  }
 ]
}