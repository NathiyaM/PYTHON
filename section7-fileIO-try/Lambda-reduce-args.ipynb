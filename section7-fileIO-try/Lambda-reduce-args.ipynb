{
 "metadata": {
  "name": "",
  "signature": "sha256:bfcf07b757277e55c693e843b41c7eb37e6243f3dfdbb61d3cc2e581c5f63332"
 },
 "nbformat": 3,
 "nbformat_minor": 0,
 "worksheets": [
  {
   "cells": [
    {
     "cell_type": "code",
     "collapsed": false,
     "input": [
      "'''\n",
      "lambda function is an anonymous function. It is an alternate to a named function. It is generally \n",
      "found in places where we need to use a function only once. \n",
      "'''\n",
      "\n",
      "g = lambda x: x**x\n",
      "g(4)"
     ],
     "language": "python",
     "metadata": {},
     "outputs": [
      {
       "metadata": {},
       "output_type": "pyout",
       "prompt_number": 2,
       "text": [
        "256"
       ]
      }
     ],
     "prompt_number": 2
    },
    {
     "cell_type": "code",
     "collapsed": false,
     "input": [
      "a = [2,-4,8]\n",
      "g2 = lambda x: x+4\n",
      "b = [g2(x) for x in a]\n",
      "print b"
     ],
     "language": "python",
     "metadata": {},
     "outputs": [
      {
       "output_type": "stream",
       "stream": "stdout",
       "text": [
        "[6, 0, 12]\n"
       ]
      }
     ],
     "prompt_number": 5
    },
    {
     "cell_type": "code",
     "collapsed": false,
     "input": [
      "# Find the sum of all elements in a list\n",
      "a = [3,2,5]\n",
      "reduce(lambda x,y: x+y, a)"
     ],
     "language": "python",
     "metadata": {},
     "outputs": [
      {
       "metadata": {},
       "output_type": "pyout",
       "prompt_number": 4,
       "text": [
        "10"
       ]
      }
     ],
     "prompt_number": 4
    },
    {
     "cell_type": "code",
     "collapsed": false,
     "input": [
      "a = [3,2,5]\n",
      "reduce(lambda x,y: x*y , a)"
     ],
     "language": "python",
     "metadata": {},
     "outputs": [
      {
       "metadata": {},
       "output_type": "pyout",
       "prompt_number": 3,
       "text": [
        "30"
       ]
      }
     ],
     "prompt_number": 3
    },
    {
     "cell_type": "code",
     "collapsed": false,
     "input": [
      "# kwargs and args\n",
      "def sum1(x,y):\n",
      "    a = x + y\n",
      "    return a\n",
      "sum1(10,-2)"
     ],
     "language": "python",
     "metadata": {},
     "outputs": [
      {
       "metadata": {},
       "output_type": "pyout",
       "prompt_number": 1,
       "text": [
        "8"
       ]
      }
     ],
     "prompt_number": 1
    },
    {
     "cell_type": "code",
     "collapsed": false,
     "input": [
      "def take1(*args):\n",
      "    print args\n",
      "    for i in args:\n",
      "        print i\n",
      "     \n",
      "take1(-10)\n",
      "take1(1,2,3)"
     ],
     "language": "python",
     "metadata": {},
     "outputs": [
      {
       "output_type": "stream",
       "stream": "stdout",
       "text": [
        "(-10,)\n",
        "-10\n",
        "(1, 2, 3)\n",
        "1\n",
        "2\n",
        "3\n"
       ]
      }
     ],
     "prompt_number": 11
    },
    {
     "cell_type": "code",
     "collapsed": false,
     "input": [
      "from operator import mul\n",
      "def multy(*args):\n",
      "    return reduce(mul, args)\n",
      "\n",
      "multy(3, 5, 2, 5)"
     ],
     "language": "python",
     "metadata": {},
     "outputs": [
      {
       "metadata": {},
       "output_type": "pyout",
       "prompt_number": 20,
       "text": [
        "150"
       ]
      }
     ],
     "prompt_number": 20
    },
    {
     "cell_type": "code",
     "collapsed": false,
     "input": [
      "def utake(**kwargs):\n",
      "    print kwargs\n",
      "    \n",
      "utake(a = 'abe')\n",
      "utake(a = 'abe', b ='cab')"
     ],
     "language": "python",
     "metadata": {},
     "outputs": [
      {
       "output_type": "stream",
       "stream": "stdout",
       "text": [
        "{'a': 'abe'}\n",
        "{'a': 'abe', 'b': 'cab'}\n"
       ]
      }
     ],
     "prompt_number": 16
    },
    {
     "cell_type": "code",
     "collapsed": false,
     "input": [
      "def ptab(**kwargs):\n",
      "    for key, value in kwargs.items():\n",
      "        print key, value\n",
      "\n",
      "ptab(a = 7, b = -5, c = 3, d = -10)"
     ],
     "language": "python",
     "metadata": {},
     "outputs": [
      {
       "output_type": "stream",
       "stream": "stdout",
       "text": [
        "a 7\n",
        "c 3\n",
        "b -5\n",
        "d -10\n"
       ]
      }
     ],
     "prompt_number": 25
    },
    {
     "cell_type": "code",
     "collapsed": false,
     "input": [],
     "language": "python",
     "metadata": {},
     "outputs": []
    }
   ],
   "metadata": {}
  }
 ]
}