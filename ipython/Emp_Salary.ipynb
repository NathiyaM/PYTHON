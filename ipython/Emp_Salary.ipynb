{
 "metadata": {
  "name": "Emp_Salary"
 }, 
 "nbformat": 2, 
 "worksheets": [
  {
   "cells": [
    {
     "cell_type": "code", 
     "collapsed": false, 
     "input": [
      "a=result=0", 
      "for i in range(1,11):", 
      "    ", 
      "    a=i", 
      "    result=i+a", 
      "    print a"
     ], 
     "language": "python", 
     "outputs": [
      {
       "output_type": "stream", 
       "stream": "stdout", 
       "text": [
        "2", 
        "4", 
        "6", 
        "8", 
        "10", 
        "12", 
        "14", 
        "16", 
        "18", 
        "20"
       ]
      }
     ], 
     "prompt_number": 26
    }, 
    {
     "cell_type": "code", 
     "collapsed": true, 
     "input": [], 
     "language": "python", 
     "outputs": []
    }
   ]
  }
 ]
}