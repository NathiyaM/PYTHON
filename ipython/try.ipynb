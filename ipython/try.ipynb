{
 "metadata": {
  "name": "try"
 }, 
 "nbformat": 2, 
 "worksheets": [
  {
   "cells": [
    {
     "cell_type": "code", 
     "collapsed": false, 
     "input": [
      "try:", 
      "    a = int('92384g')", 
      "    b = 0", 
      "    c = a/b", 
      "except:", 
      "    print 'The error message is - Not a number.'", 
      "    print 'The error message is - Cannot divide by zero.'"
     ], 
     "language": "python", 
     "outputs": [
      {
       "output_type": "stream", 
       "stream": "stdout", 
       "text": [
        "The error message is - Not a number.", 
        "The error message is - Cannot divide by zero."
       ]
      }
     ], 
     "prompt_number": 1
    }, 
    {
     "cell_type": "code", 
     "collapsed": true, 
     "input": [
      "// no catch all exception its a bad idea"
     ], 
     "language": "python", 
     "outputs": []
    }, 
    {
     "cell_type": "code", 
     "collapsed": false, 
     "input": [
      "try:", 
      "    a = int('92384g')", 
      "    b = 12", 
      "    c = 0", 
      "    d = b/c", 
      "except ValueError as v:", 
      "    print 'Not a number.  The error message is',v", 
      "except ZeroDivisionError as z:", 
      "    print 'Cannot divide by zero.  The error message is',z"
     ], 
     "language": "python", 
     "outputs": [
      {
       "output_type": "stream", 
       "stream": "stdout", 
       "text": [
        "Not a number.  The error message is invalid literal for int() with base 10: '92384g'"
       ]
      }
     ], 
     "prompt_number": 2
    }, 
    {
     "cell_type": "code", 
     "collapsed": false, 
     "input": [
      "try:", 
      "    a = int('92384g')", 
      "except ValueError as v:", 
      "    print 'Not a number.  The error message is',v", 
      "", 
      "try:", 
      "    b = 12", 
      "    c = 0", 
      "    d = b/c", 
      "except ZeroDivisionError as z:", 
      "    print 'Cannot divide by zero.  The error message is',z"
     ], 
     "language": "python", 
     "outputs": [
      {
       "output_type": "stream", 
       "stream": "stdout", 
       "text": [
        "Not a number.  The error message is invalid literal for int() with base 10: '92384g'", 
        "Cannot divide by zero.  The error message is integer division or modulo by zero"
       ]
      }
     ], 
     "prompt_number": 3
    }, 
    {
     "cell_type": "code", 
     "collapsed": false, 
     "input": [
      "try:", 
      "    a = int('92')", 
      "except ValueError:", 
      "    a = 10", 
      "    print 'a is not a number. Gave a new value = ', a", 
      "else:", 
      "    print 'is a number'"
     ], 
     "language": "python", 
     "outputs": [
      {
       "output_type": "stream", 
       "stream": "stdout", 
       "text": [
        "is a number"
       ]
      }
     ], 
     "prompt_number": 5
    }, 
    {
     "cell_type": "code", 
     "collapsed": true, 
     "input": [], 
     "language": "python", 
     "outputs": []
    }
   ]
  }
 ]
}