{
 "metadata": {
  "name": "",
  "signature": "sha256:6e2f880ebc82920e6e747cbeb857fde22a05d96416ce4d5dfcad152000c143bc"
 },
 "nbformat": 3,
 "nbformat_minor": 0,
 "worksheets": [
  {
   "cells": [
    {
     "cell_type": "code",
     "collapsed": false,
     "input": [
      "'''\n",
      "File IO\n",
      "1. using module os\n",
      "2. using module csv\n",
      "3. using module xlrd\n",
      "4. using context manager (with keyword)\n",
      "5. walking a directory and all its sub-directories\n",
      "'''"
     ],
     "language": "python",
     "metadata": {},
     "outputs": []
    },
    {
     "cell_type": "code",
     "collapsed": false,
     "input": [
      "# syntax for file open is open(file_name,mode)\n",
      "# http://www.tutorialspoint.com/python/python_files_io.htm\n",
      "fo = open('python_list.txt', 'r')\n",
      "# the above statement opens python_list.txt file in the read mode and is assigned a file object fo\n",
      "# readlines() function reads one line at a time from the file\n",
      "# syntax is file_object.readlines()\n",
      "for items in fo.readlines():\n",
      "    print items\n",
      "fo.close() # remember to close the file"
     ],
     "language": "python",
     "metadata": {},
     "outputs": []
    },
    {
     "cell_type": "code",
     "collapsed": false,
     "input": [
      "fo = open('python_list.txt', 'r')  \n",
      "for items in fo.readlines():\n",
      "    print items.strip() # strip removes newline, space, carriage return and tab from either \n",
      "    # end of the line. \n",
      "fo.close()"
     ],
     "language": "python",
     "metadata": {},
     "outputs": []
    },
    {
     "cell_type": "code",
     "collapsed": true,
     "input": [
      "fo = open('python_list.txt', 'r')\n",
      "print fo.readlines()\n",
      "# Why does the for-loop not produce any output ???\n",
      "for items in fo.readlines():\n",
      "    print 'inside for-loop',items\n",
      "fo.close()"
     ],
     "language": "python",
     "metadata": {},
     "outputs": []
    },
    {
     "cell_type": "code",
     "collapsed": false,
     "input": [
      "# Writing a file\n",
      "fo = open('python_list1.txt', 'w+') # here the text file is opened in write and read mode. \n",
      "fo.writelines('1,2,3\\n')\n",
      "print fo\n",
      "fo.close()"
     ],
     "language": "python",
     "metadata": {},
     "outputs": []
    },
    {
     "cell_type": "code",
     "collapsed": false,
     "input": [
      "fo = open('python_list1.txt', 'r')\n",
      "for items in fo.readlines():\n",
      "    print items.strip()\n",
      "fo.close()"
     ],
     "language": "python",
     "metadata": {},
     "outputs": []
    },
    {
     "cell_type": "code",
     "collapsed": false,
     "input": [
      "# The with keyword is called the context manager\n",
      "# It will close the file whether or not there is an exception\n",
      "with open('python_list1.txt', 'r') as fo:\n",
      "    for items in fo.readlines():\n",
      "        print items.strip()\n",
      "# close does not have to be called exclusively "
     ],
     "language": "python",
     "metadata": {},
     "outputs": []
    },
    {
     "cell_type": "code",
     "collapsed": false,
     "input": [
      "with open('test.csv', 'r') as fo:\n",
      "    for items in fo.readlines():\n",
      "        print items.strip() # This is a string"
     ],
     "language": "python",
     "metadata": {},
     "outputs": []
    },
    {
     "cell_type": "code",
     "collapsed": false,
     "input": [
      "import csv\n",
      "with open('test.csv', 'r') as fo:\n",
      "    alllines = csv.reader(fo,delimiter=',')\n",
      "    for lines in alllines:\n",
      "        print lines"
     ],
     "language": "python",
     "metadata": {},
     "outputs": []
    },
    {
     "cell_type": "raw",
     "metadata": {},
     "source": [
      "XLRD \n",
      "http://www.python-excel.org/\n",
      "http://www.youlikeprogramming.com/2012/03/examples-reading-excel-xls-documents-using-pythons-xlrd/"
     ]
    },
    {
     "cell_type": "code",
     "collapsed": false,
     "input": [
      "import xlrd\n",
      "# this module will help to read and write Excel files"
     ],
     "language": "python",
     "metadata": {},
     "outputs": []
    },
    {
     "cell_type": "code",
     "collapsed": false,
     "input": [
      "# Open an excel file and get all the sheet names\n",
      "wb = xlrd.open_workbook('Book1.xlsx')\n",
      "print wb.sheet_names()"
     ],
     "language": "python",
     "metadata": {},
     "outputs": []
    },
    {
     "cell_type": "code",
     "collapsed": false,
     "input": [
      "# In sheet 1, get the number of rows\n",
      "ws = wb.sheet_by_name('Sheet1')\n",
      "print ws.nrows"
     ],
     "language": "python",
     "metadata": {},
     "outputs": []
    },
    {
     "cell_type": "code",
     "collapsed": false,
     "input": [
      "print ws.row(0) # Get the content of first row as a list"
     ],
     "language": "python",
     "metadata": {},
     "outputs": []
    },
    {
     "cell_type": "code",
     "collapsed": false,
     "input": [
      "print ws.row(0)[1] # Get the second element of the first row list "
     ],
     "language": "python",
     "metadata": {},
     "outputs": []
    },
    {
     "cell_type": "code",
     "collapsed": false,
     "input": [
      "'''\n",
      "The common cell types are 0=Empty, 1=Text, 2=Number, 3=Date, 4=Boolean, 5=Error, 6=Blank\n",
      "'''"
     ],
     "language": "python",
     "metadata": {},
     "outputs": []
    },
    {
     "cell_type": "code",
     "collapsed": false,
     "input": [
      "celltype = ws.cell_type(0,1)\n",
      "cellval = ws.cell_value(0,1)\n",
      "print celltype, cellval"
     ],
     "language": "python",
     "metadata": {},
     "outputs": []
    },
    {
     "cell_type": "code",
     "collapsed": false,
     "input": [
      "celltypevaldict = {0:\"Empty\", 1:\"Text\", 2:\"Number\", 3:\"Date\", 4:\"Boolean\", 5:\"Error\", 6:\"Blank\"}\n",
      "\n",
      "celltype = ws.cell_type(0,1)\n",
      "cellval = ws.cell_value(0,1)\n",
      "print celltypevaldict[celltype], cellval"
     ],
     "language": "python",
     "metadata": {},
     "outputs": []
    },
    {
     "cell_type": "code",
     "collapsed": false,
     "input": [
      "import xlwt\n",
      "workbook = xlwt.Workbook() \n",
      "sheet = workbook.add_sheet(\"Sheet 1\") \n",
      "\n",
      "#sheet.write(0, 0, 'Adam') # row, column, value\n",
      "\n",
      "g = [['Adam', ' 10034'],\n",
      "['Nitin', ' 10043'],\n",
      "['Rob', ' 10134'],\n",
      "['Sheela', ' 10045']]\n",
      "\n",
      "for i,v in enumerate(g):\n",
      "    if len(v) > 2:\n",
      "        sheet.write(i,0,v[0])\n",
      "        sheet.write(i,1,v[1])\n",
      "        \n",
      "workbook.save('Xcel1.xls')"
     ],
     "language": "python",
     "metadata": {},
     "outputs": []
    },
    {
     "cell_type": "raw",
     "metadata": {},
     "source": [
      "'''\n",
      "DIRECTORY LISTING\n",
      "'''"
     ]
    },
    {
     "cell_type": "code",
     "collapsed": false,
     "input": [
      "import os\n",
      "os.listdir(\".\")"
     ],
     "language": "python",
     "metadata": {},
     "outputs": []
    },
    {
     "cell_type": "code",
     "collapsed": false,
     "input": [
      "import glob\n",
      "print glob.glob(\"*.*\")\n",
      "# glob.glob(_directory_name) will return all the files in a particular directory or folder"
     ],
     "language": "python",
     "metadata": {},
     "outputs": []
    },
    {
     "cell_type": "code",
     "collapsed": false,
     "input": [
      "print glob.glob(\"*.ipynb\")\n",
      "# in this example it will return all the ipython notebook files in the current directory"
     ],
     "language": "python",
     "metadata": {},
     "outputs": []
    },
    {
     "cell_type": "code",
     "collapsed": false,
     "input": [
      "import os\n",
      "# os.walk returns three values - root, directories and files and they are passed to the variables\n",
      "# root, dirs and files respectively.\n",
      "for root, dirs, files in os.walk(\"/Users/chityala/Desktop/\"):\n",
      "    # root, dirs, files\n",
      "    for file in files:\n",
      "        if file.endswith(\".py\"):\n",
      "             print os.path.join(root, file)"
     ],
     "language": "python",
     "metadata": {},
     "outputs": []
    },
    {
     "cell_type": "code",
     "collapsed": false,
     "input": [
      "import os\n",
      "os.getcwd()"
     ],
     "language": "python",
     "metadata": {},
     "outputs": []
    },
    {
     "cell_type": "code",
     "collapsed": false,
     "input": [],
     "language": "python",
     "metadata": {},
     "outputs": []
    }
   ],
   "metadata": {}
  }
 ]
}